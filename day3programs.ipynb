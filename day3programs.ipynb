{
 "cells": [
  {
   "cell_type": "markdown",
   "metadata": {},
   "source": [
    "### PACKAGES & MODULES\n",
    "- We can split program into separate modules and we can place modules into some other mdoules\n",
    "- There are two types of modules\n",
    "    - Pre defined\n",
    "        - re (regular expression), json,cgi\n",
    "    - User Defined"
   ]
  },
  {
   "cell_type": "code",
   "execution_count": 12,
   "metadata": {},
   "outputs": [
    {
     "name": "stdout",
     "output_type": "stream",
     "text": [
      "\n",
      "Please wait a moment while I gather a list of all available modules...\n",
      "\n"
     ]
    },
    {
     "name": "stderr",
     "output_type": "stream",
     "text": [
      "C:\\Users\\VVITCODELABS\\Anaconda3\\lib\\site-packages\\IPython\\kernel\\__init__.py:13: ShimWarning: The `IPython.kernel` package has been deprecated since IPython 4.0.You should import from ipykernel or jupyter_client instead.\n",
      "  \"You should import from ipykernel or jupyter_client instead.\", ShimWarning)\n",
      "WARNING: AstropyDeprecationWarning: astropy.utils.compat.futures is now deprecated - use concurrent.futures instead [astropy.utils.compat.futures]\n",
      "WARNING: The conda.compat module is deprecated and will be removed in a future release.\n",
      "C:\\Users\\VVITCODELABS\\Anaconda3\\lib\\site-packages\\distributed\\config.py:20: YAMLLoadWarning: calling yaml.load() without Loader=... is deprecated, as the default Loader is unsafe. Please read https://msg.pyyaml.org/load for full details.\n",
      "  defaults = yaml.load(f)\n",
      "C:\\Users\\VVITCODELABS\\Anaconda3\\lib\\site-packages\\nltk\\twitter\\__init__.py:22: UserWarning: The twython library has not been installed. Some functionality from the twitter package will not be available.\n",
      "  \"The twython library has not been installed. \"\n",
      "C:\\Users\\VVITCODELABS\\Anaconda3\\lib\\site-packages\\skimage\\novice\\__init__.py:103: UserWarning: The `skimage.novice` module was deprecated in version 0.14. It will be removed in 0.16.\n",
      "  warnings.warn(\"The `skimage.novice` module was deprecated in version 0.14. \"\n",
      "C:\\Users\\VVITCODELABS\\Anaconda3\\lib\\site-packages\\skimage\\viewer\\utils\\core.py:10: UserWarning: Recommended matplotlib backend is `Agg` for full skimage.viewer functionality.\n",
      "  warn(\"Recommended matplotlib backend is `Agg` for full \"\n",
      "C:\\Users\\VVITCODELABS\\Anaconda3\\lib\\site-packages\\sphinx\\websupport\\__init__.py:25: RemovedInSphinx20Warning: sphinx.websupport module is now provided as sphinxcontrib-websupport. sphinx.websupport will be removed at Sphinx-2.0. Please use the package instead.\n",
      "  RemovedInSphinx20Warning)\n",
      "C:\\Users\\VVITCODELABS\\Anaconda3\\lib\\site-packages\\qtawesome\\iconic_font.py:276: UserWarning: You need to have a running QApplication to use QtAwesome!\n",
      "  warnings.warn(\"You need to have a running \"\n",
      "C:\\Users\\VVITCODELABS\\Anaconda3\\lib\\pkgutil.py:107: VisibleDeprecationWarning: zmq.eventloop.minitornado is deprecated in pyzmq 14.0 and will be removed.\n",
      "    Install tornado itself to use zmq with the tornado IOLoop.\n",
      "    \n",
      "  yield from walk_packages(path, info.name+'.', onerror)\n"
     ]
    },
    {
     "name": "stdout",
     "output_type": "stream",
     "text": [
      "Crypto              builtins            mkl                 sphinx\n",
      "Cython              bz2                 mkl_fft             sphinxcontrib\n",
      "IPython             cProfile            mkl_random          spyder\n",
      "OpenSSL             calendar            mmap                spyder_breakpoints\n",
      "PIL                 certifi             mmapfile            spyder_io_dcm\n",
      "PyQt5               cffi                mmsystem            spyder_io_hdf5\n",
      "__future__          cgi                 modulefinder        spyder_kernels\n",
      "_abc                cgitb               more_itertools      spyder_profiler\n",
      "_ast                chardet             mpmath              spyder_pylint\n",
      "_asyncio            chunk               msgpack             sqlalchemy\n",
      "_bisect             click               msilib              sqlite3\n",
      "_blake2             cloudpickle         msvcrt              sre_compile\n",
      "_bootlocale         clyent              multipledispatch    sre_constants\n",
      "_bz2                cmath               multiprocessing     sre_parse\n",
      "_cffi_backend       cmd                 navigator_updater   ssl\n",
      "_codecs             code                nbconvert           sspi\n",
      "_codecs_cn          codecs              nbformat            sspicon\n",
      "_codecs_hk          codeop              netbios             stat\n",
      "_codecs_iso2022     collections         netrc               statistics\n",
      "_codecs_jp          colorama            networkx            statsmodels\n",
      "_codecs_kr          colorsys            nltk                storemagic\n",
      "_codecs_tw          commctrl            nntplib             string\n",
      "_collections        compileall          nose                stringprep\n",
      "_collections_abc    comtypes            notebook            struct\n",
      "_compat_pickle      concurrent          nt                  subprocess\n",
      "_compression        conda               ntpath              sunau\n",
      "_contextvars        conda_build         ntsecuritycon       symbol\n",
      "_csv                conda_env           nturl2path          sympy\n",
      "_ctypes             conda_verify        numba               sympyprinting\n",
      "_ctypes_test        configparser        numbers             symtable\n",
      "_datetime           contextlib          numexpr             sys\n",
      "_decimal            contextlib2         numpy               sysconfig\n",
      "_dummy_thread       contextvars         numpydoc            tables\n",
      "_elementtree        copy                odbc                tabnanny\n",
      "_functools          copyreg             olefile             tarfile\n",
      "_hashlib            crypt               opcode              tblib\n",
      "_heapq              cryptography        openpyxl            telnetlib\n",
      "_imp                csv                 operator            tempfile\n",
      "_io                 ctypes              optparse            terminado\n",
      "_json               curl                os                  test\n",
      "_locale             curses              packaging           test_data\n",
      "_lsprof             cwp                 pandas              test_path\n",
      "_lzma               cycler              pandocfilters       test_pycosat\n",
      "_markupbase         cython              parser              testpath\n",
      "_md5                cythonmagic         parso               tests\n",
      "_msi                cytoolz             partd               textwrap\n",
      "_multibytecodec     dask                past                this\n",
      "_multiprocessing    dataclasses         path                threading\n",
      "_nsis               datetime            pathlib             time\n",
      "_opcode             dateutil            pathlib2            timeit\n",
      "_operator           dbi                 patsy               timer\n",
      "_osx_support        dbm                 pdb                 tkinter\n",
      "_overlapped         dde                 pep8                tlz\n",
      "_pickle             decimal             perfmon             token\n",
      "_py_abc             decorator           pickle              tokenize\n",
      "_pydecimal          defusedxml          pickleshare         toolz\n",
      "_pyio               difflib             pickletools         tornado\n",
      "_pylief             dis                 pip                 tqdm\n",
      "_pyrsistent_version distributed         pipes               trace\n",
      "_pytest             distutils           pkg_resources       traceback\n",
      "_queue              doctest             pkginfo             tracemalloc\n",
      "_random             docutils            pkgutil             traitlets\n",
      "_sha1               dummy_threading     platform            tty\n",
      "_sha256             easy_install        plistlib            turtle\n",
      "_sha3               email               pluggy              turtledemo\n",
      "_sha512             encodings           ply                 types\n",
      "_signal             ensurepip           poplib              typing\n",
      "_sitebuiltins       entrypoints         posixpath           unicodecsv\n",
      "_socket             enum                pprint              unicodedata\n",
      "_sqlite3            errno               profile             unittest\n",
      "_sre                et_xmlfile          prometheus_client   urllib\n",
      "_ssl                fastcache           prompt_toolkit      urllib3\n",
      "_stat               faulthandler        pstats              uu\n",
      "_string             filecmp             psutil              uuid\n",
      "_strptime           fileinput           pty                 venv\n",
      "_struct             filelock            pvectorc            warnings\n",
      "_symtable           flask               py                  wave\n",
      "_system_path        fnmatch             py_compile          wcwidth\n",
      "_testbuffer         formatter           pyclbr              weakref\n",
      "_testcapi           fractions           pycodestyle         webbrowser\n",
      "_testconsole        ftplib              pycosat             webencodings\n",
      "_testimportmultiple functools           pycparser           werkzeug\n",
      "_testmultiphase     future              pycurl              wheel\n",
      "_thread             gc                  pydoc               widgetsnbextension\n",
      "_threading_local    genericpath         pydoc_data          win2kras\n",
      "_tkinter            getopt              pyexpat             win32api\n",
      "_tracemalloc        getpass             pyflakes            win32clipboard\n",
      "_warnings           gettext             pygments            win32com\n",
      "_weakref            gevent              pylab               win32con\n",
      "_weakrefset         glob                pylint              win32console\n",
      "_win32sysloader     glob2               pyodbc              win32cred\n",
      "_winapi             greenlet            pyparsing           win32crypt\n",
      "_winxptheme         gzip                pyreadline          win32cryptcon\n",
      "_yaml               h5py                pyrsistent          win32event\n",
      "abc                 hashlib             pytest              win32evtlog\n",
      "adodbapi            heapdict            pytest_arraydiff    win32evtlogutil\n",
      "afxres              heapq               pytest_doctestplus  win32file\n",
      "aifc                hmac                pytest_openfiles    win32gui\n",
      "alabaster           html                pytest_remotedata   win32gui_struct\n",
      "anaconda_navigator  html5lib            pythoncom           win32help\n",
      "anaconda_project    http                pytz                win32inet\n",
      "antigravity         idlelib             pywin               win32inetcon\n",
      "argparse            idna                pywin32_testutil    win32job\n",
      "array               imageio             pywintypes          win32lz\n",
      "asn1crypto          imagesize           pywt                win32net\n",
      "ast                 imaplib             pyximport           win32netcon\n",
      "astroid             imghdr              qtawesome           win32pdh\n",
      "astropy             imp                 qtconsole           win32pdhquery\n",
      "asynchat            importlib           qtpy                win32pdhutil\n",
      "asyncio             importlib_metadata  queue               win32pipe\n",
      "asyncore            inspect             quopri              win32print\n",
      "atexit              io                  random              win32process\n",
      "atomicwrites        ipaddress           rasutil             win32profile\n",
      "attr                ipykernel           re                  win32ras\n",
      "audioop             ipykernel_launcher  readline            win32rcparser\n",
      "autoreload          ipython_genutils    regcheck            win32security\n",
      "babel               ipywidgets          regutil             win32service\n"
     ]
    },
    {
     "name": "stdout",
     "output_type": "stream",
     "text": [
      "backcall            isapi               reprlib             win32serviceutil\n",
      "backports           isort               requests            win32timezone\n",
      "base64              isympy              rlcompleter         win32trace\n",
      "bdb                 itertools           rmagic              win32traceutil\n",
      "binascii            itsdangerous        rope                win32transaction\n",
      "binhex              jdcal               ruamel_yaml         win32ts\n",
      "binstar_client      jedi                run                 win32ui\n",
      "bisect              jinja2              runpy               win32uiole\n",
      "bitarray            json                sched               win32verstamp\n",
      "bkcharts            jsonschema          scipy               win32wnet\n",
      "bleach              jupyter             scripts             win_inet_pton\n",
      "bokeh               jupyter_client      seaborn             win_unicode_console\n",
      "boto                jupyter_console     secrets             wincertstore\n",
      "bottleneck          jupyter_core        select              winerror\n",
      "brain_argparse      jupyterlab          selectors           winioctlcon\n",
      "brain_attrs         jupyterlab_server   send2trash          winnt\n",
      "brain_builtin_inference keyring             servicemanager      winperf\n",
      "brain_collections   keyword             setuptools          winpty\n",
      "brain_curses        kiwisolver          shelve              winreg\n",
      "brain_dateutil      lazy_object_proxy   shlex               winsound\n",
      "brain_fstrings      lib2to3             shutil              winxpgui\n",
      "brain_functools     libarchive          signal              winxptheme\n",
      "brain_gi            libfuturize         simplegeneric       wrapt\n",
      "brain_hashlib       libpasteurize       singledispatch      wsgiref\n",
      "brain_http          lief                singledispatch_helpers xdrlib\n",
      "brain_io            linecache           sip                 xlrd\n",
      "brain_mechanize     llvmlite            sipconfig           xlsxwriter\n",
      "brain_multiprocessing locale              sipdistutils        xlwings\n",
      "brain_namedtuple_enum locket              site                xlwt\n",
      "brain_nose          logging             six                 xml\n",
      "brain_numpy         lxml                skimage             xmlrpc\n",
      "brain_pkg_resources lzma                sklearn             xxsubtype\n",
      "brain_pytest        macpath             smtpd               yaml\n",
      "brain_qt            mailbox             smtplib             zict\n",
      "brain_random        mailcap             sndhdr              zipapp\n",
      "brain_re            markupsafe          snowballstemmer     zipfile\n",
      "brain_six           marshal             socket              zipimport\n",
      "brain_ssl           math                socketserver        zipp\n",
      "brain_subprocess    matplotlib          socks               zlib\n",
      "brain_threading     mccabe              sockshandler        zmq\n",
      "brain_typing        menuinst            sortedcollections   \n",
      "brain_uuid          mimetypes           sortedcontainers    \n",
      "bs4                 mistune             soupsieve           \n",
      "\n",
      "Enter any module name to get more help.  Or, type \"modules spam\" to search\n",
      "for modules whose name or summary contain the string \"spam\".\n",
      "\n",
      "DEBUG:matplotlib.pyplot:Loaded backend module://ipykernel.pylab.backend_inline version unknown.\n"
     ]
    }
   ],
   "source": [
    "help('modules')"
   ]
  },
  {
   "cell_type": "code",
   "execution_count": 1,
   "metadata": {},
   "outputs": [
    {
     "name": "stdout",
     "output_type": "stream",
     "text": [
      "1 2 34\n",
      "37 34 1 12.333333333333334\n"
     ]
    }
   ],
   "source": [
    "from mymodules import mylist\n",
    "l1=list(map(int,input().split()))\n",
    "r1=mylist.mysum(l1)\n",
    "r2=mylist.mymax(l1)\n",
    "r3=mylist.mymin(l1)\n",
    "r4=mylist.avg(l1)\n",
    "print(r1,r2,r3,r4)"
   ]
  },
  {
   "cell_type": "code",
   "execution_count": 3,
   "metadata": {},
   "outputs": [],
   "source": [
    "import re"
   ]
  },
  {
   "cell_type": "code",
   "execution_count": 5,
   "metadata": {},
   "outputs": [
    {
     "data": {
      "text/plain": [
       "<re.Match object; span=(0, 1), match='k'>"
      ]
     },
     "execution_count": 5,
     "metadata": {},
     "output_type": "execute_result"
    }
   ],
   "source": [
    "re.match('k','kala')"
   ]
  },
  {
   "cell_type": "code",
   "execution_count": 6,
   "metadata": {},
   "outputs": [
    {
     "data": {
      "text/plain": [
       "<re.Match object; span=(0, 1), match='k'>"
      ]
     },
     "execution_count": 6,
     "metadata": {},
     "output_type": "execute_result"
    }
   ],
   "source": [
    "re.search('k','kala')"
   ]
  },
  {
   "cell_type": "code",
   "execution_count": 7,
   "metadata": {},
   "outputs": [
    {
     "data": {
      "text/plain": [
       "<re.Match object; span=(2, 3), match='l'>"
      ]
     },
     "execution_count": 7,
     "metadata": {},
     "output_type": "execute_result"
    }
   ],
   "source": [
    "re.search('l','kala')"
   ]
  },
  {
   "cell_type": "code",
   "execution_count": 8,
   "metadata": {},
   "outputs": [
    {
     "data": {
      "text/plain": [
       "['a', 'a']"
      ]
     },
     "execution_count": 8,
     "metadata": {},
     "output_type": "execute_result"
    }
   ],
   "source": [
    "re.findall('a','kala')"
   ]
  },
  {
   "cell_type": "code",
   "execution_count": 12,
   "metadata": {},
   "outputs": [
    {
     "name": "stdout",
     "output_type": "stream",
     "text": [
      "amulya\n",
      "true\n"
     ]
    }
   ],
   "source": [
    "pattern = '^a' #checks whether the starting character has a r not\n",
    "name = input()\n",
    "if re.search(pattern,name):\n",
    "    print('true')\n",
    "else:\n",
    "    print('false')"
   ]
  },
  {
   "cell_type": "code",
   "execution_count": 13,
   "metadata": {},
   "outputs": [
    {
     "name": "stdout",
     "output_type": "stream",
     "text": [
      "kaal\n",
      "true\n"
     ]
    }
   ],
   "source": [
    "pattern = 'l$' #checks ending character has l or not\n",
    "name = input()\n",
    "if re.search(pattern,name):\n",
    "    print('true')\n",
    "else:\n",
    "    print('false')"
   ]
  },
  {
   "cell_type": "code",
   "execution_count": 19,
   "metadata": {},
   "outputs": [
    {
     "name": "stdout",
     "output_type": "stream",
     "text": [
      "kaa43535l\n",
      "true\n"
     ]
    }
   ],
   "source": [
    "pattern = '^k.*l$' #checks ending character has l or not\n",
    "#pattern1 = '^k'\n",
    "name = input()\n",
    "if re.search(pattern,name):\n",
    "    print('true')\n",
    "else:\n",
    "    print('false')"
   ]
  },
  {
   "cell_type": "code",
   "execution_count": 22,
   "metadata": {},
   "outputs": [
    {
     "name": "stdout",
     "output_type": "stream",
     "text": [
      "kl\n",
      "false\n"
     ]
    }
   ],
   "source": [
    "pattern = '^k.+l$' #checks ending character has l or not\n",
    "#pattern1 = '^k'\n",
    "name = input()\n",
    "if re.search(pattern,name):\n",
    "    print('true')\n",
    "else:\n",
    "    print('false')"
   ]
  },
  {
   "cell_type": "code",
   "execution_count": 28,
   "metadata": {},
   "outputs": [
    {
     "name": "stdout",
     "output_type": "stream",
     "text": [
      "kal\n",
      "true\n"
     ]
    }
   ],
   "source": [
    "pattern = '^k[a-z]l$' #Checks whether the string has a single lower case character between starting chark and ending char l\n",
    "#pattern1 = '^k'\n",
    "name = input()\n",
    "if re.search(pattern,name):\n",
    "    print('true')\n",
    "else:\n",
    "    print('false')"
   ]
  },
  {
   "cell_type": "code",
   "execution_count": 29,
   "metadata": {},
   "outputs": [
    {
     "name": "stdout",
     "output_type": "stream",
     "text": [
      "kAl\n",
      "true\n"
     ]
    }
   ],
   "source": [
    "pattern = '^k[A-Z]l$' #Checks whether the string has a Upper lower case character between starting chark and ending char l\n",
    "#pattern1 = '^k'\n",
    "name = input()\n",
    "if re.search(pattern,name):\n",
    "    print('true')\n",
    "else:\n",
    "    print('false')"
   ]
  },
  {
   "cell_type": "code",
   "execution_count": 30,
   "metadata": {},
   "outputs": [
    {
     "name": "stdout",
     "output_type": "stream",
     "text": [
      "kafdfdafdsfl\n",
      "true\n"
     ]
    }
   ],
   "source": [
    "pattern = '^k[a-z]*l$' #Checks whether the string has a Upper lower case character between starting chark and ending char l\n",
    "#pattern1 = '^k'\n",
    "name = input()\n",
    "if re.search(pattern,name):\n",
    "    print('true')\n",
    "else:\n",
    "    print('false')"
   ]
  },
  {
   "cell_type": "code",
   "execution_count": 32,
   "metadata": {},
   "outputs": [
    {
     "name": "stdout",
     "output_type": "stream",
     "text": [
      "kafdfASF l\n",
      "false\n"
     ]
    }
   ],
   "source": [
    "pattern = '^k[A-Za-z]*l$' #Checks whether the string has a Upper lower case character between starting chark and ending char l\n",
    "#pattern1 = '^k'\n",
    "name = input()\n",
    "if re.search(pattern,name):\n",
    "    print('true')\n",
    "else:\n",
    "    print('false')"
   ]
  },
  {
   "cell_type": "code",
   "execution_count": 33,
   "metadata": {},
   "outputs": [
    {
     "name": "stdout",
     "output_type": "stream",
     "text": [
      "ksafdsf QREWQRl\n",
      "true\n"
     ]
    }
   ],
   "source": [
    "pattern = '^k[A-Za-z\\s]*l$' #Checks whether the string has a Upper lower case character between starting chark and ending char l\n",
    "#pattern1 = '^k'\n",
    "name = input()\n",
    "if re.search(pattern,name):\n",
    "    print('true')\n",
    "else:\n",
    "    print('false')"
   ]
  },
  {
   "cell_type": "code",
   "execution_count": 39,
   "metadata": {},
   "outputs": [
    {
     "name": "stdout",
     "output_type": "stream",
     "text": [
      "Enter Mobile Number:9440201567\n",
      "valid number\n"
     ]
    }
   ],
   "source": [
    "pattern='^[7-9][0-9]{9}$'\n",
    "num = input(\"Enter Mobile Number:\")\n",
    "if (re.search(pattern,num)):\n",
    "    print(\"valid number\")\n",
    "else:\n",
    "    print(\"not valid number\")"
   ]
  },
  {
   "cell_type": "code",
   "execution_count": 40,
   "metadata": {},
   "outputs": [
    {
     "name": "stdout",
     "output_type": "stream",
     "text": [
      "Enter Mobile Number:9440201567\n",
      "valid number\n"
     ]
    }
   ],
   "source": [
    "pattern='^[7-9]\\d{9}$'\n",
    "num = input(\"Enter Mobile Number:\")\n",
    "if (re.search(pattern,num)):\n",
    "    print(\"valid number\")\n",
    "else:\n",
    "    print(\"not valid number\")"
   ]
  },
  {
   "cell_type": "code",
   "execution_count": 46,
   "metadata": {},
   "outputs": [
    {
     "name": "stdout",
     "output_type": "stream",
     "text": [
      "Enter mailid:abc12@gmail.com\n",
      "valid mail\n"
     ]
    }
   ],
   "source": [
    "pattern='^[a-z].*[0-9].*@gmail.com$'\n",
    "uid = input(\"Enter mailid:\")\n",
    "if (re.search(pattern,uid)):\n",
    "    print(\"valid mail\")\n",
    "else:\n",
    "    print(\"not valid mail\")"
   ]
  },
  {
   "cell_type": "code",
   "execution_count": 51,
   "metadata": {},
   "outputs": [
    {
     "name": "stdout",
     "output_type": "stream",
     "text": [
      "kalavathi@gmail.com\n",
      "9440201567\n",
      "abc12@gmail.com\n",
      "9440201567\n",
      "werr3243@gmail.com\n",
      "9440201567\n",
      "Enter mailid:abc@gmail.com\n",
      "not valid mail\n",
      "not valid\n"
     ]
    }
   ],
   "source": [
    "def isvalidname(name):\n",
    "    pattern='^[a-z].*[0-9].*@gmail.com$'\n",
    "    uid = input(\"Enter mailid:\")\n",
    "    if (re.search(pattern,uid)):\n",
    "        print(\"valid mail\")\n",
    "    else:\n",
    "        print(\"not valid mail\")\n",
    "def isvalidno(mno):\n",
    "    pattern='^[7-9]\\d{9}$'\n",
    "    num = input(\"Enter Mobile Number:\")\n",
    "    if (re.search(pattern,num)):\n",
    "        print(\"valid number\")\n",
    "    else:\n",
    "        print(\"not valid number\")\n",
    "    return\n",
    "path=\"myfiles/contacts1.txt\"\n",
    "for i in range(3):\n",
    "    name=input()\n",
    "    mno=input()\n",
    "if isvalidname(name) and isvalidno(mno):\n",
    "    print(\"both are valid\")\n",
    "else:\n",
    "    print(\"not valid\")"
   ]
  },
  {
   "cell_type": "code",
   "execution_count": 52,
   "metadata": {},
   "outputs": [
    {
     "name": "stdout",
     "output_type": "stream",
     "text": [
      "1 2 3 4 5 6 7 8 9 10 11 12 13 14 15 16 17 18 19 20 21 22 23 24 25 26 27 28 29 30 31 32 33 34 35 36 37 38 39 40 41 42 43 44 45 46 47 48 49 50 51 52 53 54 55 56 57 58 59 60 61 62 63 64 65 66 67 68 69 70 71 72 73 74 75 76 77 78 79 80 81 82 83 84 85 86 87 88 89 90 91 92 93 94 95 96 97 98 99 "
     ]
    }
   ],
   "source": [
    "for i in range(1,100):\n",
    "    print(i,end=\" \")"
   ]
  },
  {
   "cell_type": "code",
   "execution_count": 53,
   "metadata": {},
   "outputs": [
    {
     "data": {
      "text/plain": [
       "[1,\n",
       " 2,\n",
       " 3,\n",
       " 4,\n",
       " 5,\n",
       " 6,\n",
       " 7,\n",
       " 8,\n",
       " 9,\n",
       " 10,\n",
       " 11,\n",
       " 12,\n",
       " 13,\n",
       " 14,\n",
       " 15,\n",
       " 16,\n",
       " 17,\n",
       " 18,\n",
       " 19,\n",
       " 20,\n",
       " 21,\n",
       " 22,\n",
       " 23,\n",
       " 24,\n",
       " 25,\n",
       " 26,\n",
       " 27,\n",
       " 28,\n",
       " 29,\n",
       " 30,\n",
       " 31,\n",
       " 32,\n",
       " 33,\n",
       " 34,\n",
       " 35,\n",
       " 36,\n",
       " 37,\n",
       " 38,\n",
       " 39,\n",
       " 40,\n",
       " 41,\n",
       " 42,\n",
       " 43,\n",
       " 44,\n",
       " 45,\n",
       " 46,\n",
       " 47,\n",
       " 48,\n",
       " 49,\n",
       " 50,\n",
       " 51,\n",
       " 52,\n",
       " 53,\n",
       " 54,\n",
       " 55,\n",
       " 56,\n",
       " 57,\n",
       " 58,\n",
       " 59,\n",
       " 60,\n",
       " 61,\n",
       " 62,\n",
       " 63,\n",
       " 64,\n",
       " 65,\n",
       " 66,\n",
       " 67,\n",
       " 68,\n",
       " 69,\n",
       " 70,\n",
       " 71,\n",
       " 72,\n",
       " 73,\n",
       " 74,\n",
       " 75,\n",
       " 76,\n",
       " 77,\n",
       " 78,\n",
       " 79,\n",
       " 80,\n",
       " 81,\n",
       " 82,\n",
       " 83,\n",
       " 84,\n",
       " 85,\n",
       " 86,\n",
       " 87,\n",
       " 88,\n",
       " 89,\n",
       " 90,\n",
       " 91,\n",
       " 92,\n",
       " 93,\n",
       " 94,\n",
       " 95,\n",
       " 96,\n",
       " 97,\n",
       " 98,\n",
       " 99]"
      ]
     },
     "execution_count": 53,
     "metadata": {},
     "output_type": "execute_result"
    }
   ],
   "source": [
    "li=[i for i in range(1,100)]\n",
    "li"
   ]
  },
  {
   "cell_type": "code",
   "execution_count": 55,
   "metadata": {},
   "outputs": [
    {
     "data": {
      "text/plain": [
       "[1, 4, 9, 16, 25, 36, 49, 64, 81, 100]"
      ]
     },
     "execution_count": 55,
     "metadata": {},
     "output_type": "execute_result"
    }
   ],
   "source": [
    "l2=[i*i for i in range(1,11)]\n",
    "l2"
   ]
  },
  {
   "cell_type": "code",
   "execution_count": 56,
   "metadata": {},
   "outputs": [
    {
     "data": {
      "text/plain": [
       "[1, 8, 27, 64, 125, 216, 343, 512, 729, 1000]"
      ]
     },
     "execution_count": 56,
     "metadata": {},
     "output_type": "execute_result"
    }
   ],
   "source": [
    "l3=[i**3 for i in range(1,11)]\n",
    "l3"
   ]
  },
  {
   "cell_type": "code",
   "execution_count": 57,
   "metadata": {},
   "outputs": [
    {
     "data": {
      "text/plain": [
       "[0, 2, 4, 6, 8, 10]"
      ]
     },
     "execution_count": 57,
     "metadata": {},
     "output_type": "execute_result"
    }
   ],
   "source": [
    "l4=[i for i in range(0,11,2)]\n",
    "l4"
   ]
  },
  {
   "cell_type": "code",
   "execution_count": 58,
   "metadata": {},
   "outputs": [
    {
     "data": {
      "text/plain": [
       "[1, 3, 5, 7, 9]"
      ]
     },
     "execution_count": 58,
     "metadata": {},
     "output_type": "execute_result"
    }
   ],
   "source": [
    "l5=[i for i in range(1,11,2)]\n",
    "l5"
   ]
  },
  {
   "cell_type": "code",
   "execution_count": 61,
   "metadata": {},
   "outputs": [
    {
     "data": {
      "text/plain": [
       "[(1, 1),\n",
       " (1, 2),\n",
       " (1, 3),\n",
       " (1, 4),\n",
       " (2, 1),\n",
       " (2, 2),\n",
       " (2, 3),\n",
       " (2, 4),\n",
       " (3, 1),\n",
       " (3, 2),\n",
       " (3, 3),\n",
       " (3, 4),\n",
       " (4, 1),\n",
       " (4, 2),\n",
       " (4, 3),\n",
       " (4, 4)]"
      ]
     },
     "execution_count": 61,
     "metadata": {},
     "output_type": "execute_result"
    }
   ],
   "source": [
    "l6=[ (i,j) for i in range(1,5) for j in range(1,5)]\n",
    "l6"
   ]
  },
  {
   "cell_type": "code",
   "execution_count": 62,
   "metadata": {},
   "outputs": [
    {
     "data": {
      "text/plain": [
       "['no', 2, 'no', 4, 'no', 6, 'no', 8, 'no', 10]"
      ]
     },
     "execution_count": 62,
     "metadata": {},
     "output_type": "execute_result"
    }
   ],
   "source": [
    "l7=[i if i%2==0 else \"no\" for i in range(1,11)]\n",
    "l7"
   ]
  },
  {
   "cell_type": "code",
   "execution_count": 64,
   "metadata": {},
   "outputs": [
    {
     "data": {
      "text/plain": [
       "['Odd', 'Even', 'Odd', 'Even', 'Odd', 'Even', 'Odd', 'Even', 'Odd', 'Even']"
      ]
     },
     "execution_count": 64,
     "metadata": {},
     "output_type": "execute_result"
    }
   ],
   "source": [
    "l7=[\"Even\" if i%2==0 else \"Odd\" for i in range(1,11)]\n",
    "l7"
   ]
  },
  {
   "cell_type": "code",
   "execution_count": 67,
   "metadata": {},
   "outputs": [
    {
     "data": {
      "text/plain": [
       "[3,\n",
       " 4,\n",
       " 5,\n",
       " 5,\n",
       " 5,\n",
       " 6,\n",
       " 6,\n",
       " 7,\n",
       " 7,\n",
       " 7,\n",
       " 7,\n",
       " 7,\n",
       " 8,\n",
       " 8,\n",
       " 8,\n",
       " 8,\n",
       " 9,\n",
       " 9,\n",
       " 9,\n",
       " 9,\n",
       " 9,\n",
       " 9,\n",
       " 10,\n",
       " 10,\n",
       " 10,\n",
       " 10,\n",
       " 10,\n",
       " 10]"
      ]
     },
     "execution_count": 67,
     "metadata": {},
     "output_type": "execute_result"
    }
   ],
   "source": [
    "l8=[i for i in range(2,11) for j in range(2,i) if i%j!=0]\n",
    "l8"
   ]
  },
  {
   "cell_type": "code",
   "execution_count": null,
   "metadata": {},
   "outputs": [],
   "source": []
  }
 ],
 "metadata": {
  "kernelspec": {
   "display_name": "Python 3",
   "language": "python",
   "name": "python3"
  },
  "language_info": {
   "codemirror_mode": {
    "name": "ipython",
    "version": 3
   },
   "file_extension": ".py",
   "mimetype": "text/x-python",
   "name": "python",
   "nbconvert_exporter": "python",
   "pygments_lexer": "ipython3",
   "version": "3.7.3"
  }
 },
 "nbformat": 4,
 "nbformat_minor": 2
}
